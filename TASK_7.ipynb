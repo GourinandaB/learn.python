{
  "nbformat": 4,
  "nbformat_minor": 0,
  "metadata": {
    "colab": {
      "name": "TASK  7.ipynb",
      "provenance": [],
      "include_colab_link": true
    },
    "kernelspec": {
      "name": "python3",
      "display_name": "Python 3"
    },
    "language_info": {
      "name": "python"
    }
  },
  "cells": [
    {
      "cell_type": "markdown",
      "metadata": {
        "id": "view-in-github",
        "colab_type": "text"
      },
      "source": [
        "<a href=\"https://colab.research.google.com/github/GourinandaB/learn.python/blob/main/TASK_7.ipynb\" target=\"_parent\"><img src=\"https://colab.research.google.com/assets/colab-badge.svg\" alt=\"Open In Colab\"/></a>"
      ]
    },
    {
      "cell_type": "markdown",
      "metadata": {
        "id": "b0V3vwzcydKy"
      },
      "source": [
        "1. Write a program to check whether a  string is palindrome or not using functions. \n",
        "\n",
        "   ( A function is to be created to check whether the string is palindrome and it should give the output true or false to the main program)"
      ]
    },
    {
      "cell_type": "code",
      "metadata": {
        "id": "M2Mi7EOdyxiu"
      },
      "source": [
        "#please enter the code below this line.\n",
        "s='madam'\n",
        "rev = reversed(s)\n",
        "if list(s) == list(rev):\n",
        "   print(\"True\")\n",
        "else:\n",
        "   print(\"false\")"
      ],
      "execution_count": null,
      "outputs": []
    },
    {
      "cell_type": "markdown",
      "metadata": {
        "id": "vSiShTyOzEz-"
      },
      "source": [
        "2.  Write a menu driven program to find largest element in L, smallest element, avg of all values, sum of all values in L. All these operation should be performed in different functions and the result should be returned.\n",
        "\n",
        "\n",
        "      L=[23,24,11,90,1,41,9,99,28,56,72]"
      ]
    },
    {
      "cell_type": "code",
      "metadata": {
        "id": "fRtMIw_CzsmO"
      },
      "source": [
        "#please enter the code below this line.\n",
        "def getMin(arr,n):\n",
        "    return min(arr)\n",
        "def getMax(arr,n):\n",
        "    return max(arr)\n",
        "if __name__=='__main__':\n",
        "    arr=[23,24,11,90,1,41,9,99,28,56,72]\n",
        "    total = sum(arr)\n",
        "    avr   =total/len(arr)\n",
        "    n = len(arr)\n",
        "    print(\"Minimum element of array: \",getMin(arr, n))\n",
        "    print(\"Maximum element of array: \",getMax(arr, n))\n",
        "    print(\"sum of the elements: \",total)\n",
        "    print(\"average of this elements:\" ,avr)"
      ],
      "execution_count": null,
      "outputs": []
    }
  ]
}